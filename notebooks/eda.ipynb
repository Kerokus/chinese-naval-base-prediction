{
 "cells": [
  {
   "cell_type": "code",
   "execution_count": 17,
   "metadata": {},
   "outputs": [],
   "source": [
    "import pandas as pd\n",
    "import plotly.express as px\n",
    "import requests"
   ]
  },
  {
   "cell_type": "code",
   "execution_count": 5,
   "metadata": {},
   "outputs": [
    {
     "data": {
      "text/html": [
       "<div>\n",
       "<style scoped>\n",
       "    .dataframe tbody tr th:only-of-type {\n",
       "        vertical-align: middle;\n",
       "    }\n",
       "\n",
       "    .dataframe tbody tr th {\n",
       "        vertical-align: top;\n",
       "    }\n",
       "\n",
       "    .dataframe thead th {\n",
       "        text-align: right;\n",
       "    }\n",
       "</style>\n",
       "<table border=\"1\" class=\"dataframe\">\n",
       "  <thead>\n",
       "    <tr style=\"text-align: right;\">\n",
       "      <th></th>\n",
       "      <th>Unnamed: 0</th>\n",
       "      <th>port_name</th>\n",
       "      <th>recipient</th>\n",
       "      <th>region</th>\n",
       "      <th>commitment_year</th>\n",
       "      <th>aiddata_tuff_project_id</th>\n",
       "      <th>recommended_for_aggregates</th>\n",
       "      <th>umbrella</th>\n",
       "      <th>financier_country</th>\n",
       "      <th>implementation_start_year</th>\n",
       "      <th>...</th>\n",
       "      <th>funding_agencies</th>\n",
       "      <th>cofinancing_agencies</th>\n",
       "      <th>receiving_agencies</th>\n",
       "      <th>implementing_agencies</th>\n",
       "      <th>accountable_agencies</th>\n",
       "      <th>amount_constant_usd2021</th>\n",
       "      <th>latitude</th>\n",
       "      <th>longitude</th>\n",
       "      <th>osm_link</th>\n",
       "      <th>precision_level</th>\n",
       "    </tr>\n",
       "  </thead>\n",
       "  <tbody>\n",
       "    <tr>\n",
       "      <th>3</th>\n",
       "      <td>3</td>\n",
       "      <td>Autonomous Port of Kribi</td>\n",
       "      <td>Cameroon</td>\n",
       "      <td>Africa</td>\n",
       "      <td>2017</td>\n",
       "      <td>53116</td>\n",
       "      <td>Yes</td>\n",
       "      <td>No</td>\n",
       "      <td>China (People's Republic of)</td>\n",
       "      <td>0</td>\n",
       "      <td>...</td>\n",
       "      <td>Export-Import Bank of China (China Eximbank)</td>\n",
       "      <td>NaN</td>\n",
       "      <td>Cameroon Ministry of Economy, Planning, and Re...</td>\n",
       "      <td>China Harbour Engineering Co., Ltd.|Government...</td>\n",
       "      <td>NaN</td>\n",
       "      <td>1.705286e+08</td>\n",
       "      <td>2.728108</td>\n",
       "      <td>9.867072</td>\n",
       "      <td>https://www.openstreetmap.org/way/325526034</td>\n",
       "      <td>precise</td>\n",
       "    </tr>\n",
       "    <tr>\n",
       "      <th>31</th>\n",
       "      <td>77</td>\n",
       "      <td>Port of Cabinda</td>\n",
       "      <td>Angola</td>\n",
       "      <td>Africa</td>\n",
       "      <td>2016</td>\n",
       "      <td>66866</td>\n",
       "      <td>Yes</td>\n",
       "      <td>No</td>\n",
       "      <td>China (People's Republic of)</td>\n",
       "      <td>0</td>\n",
       "      <td>...</td>\n",
       "      <td>China Development Bank (CDB)</td>\n",
       "      <td>NaN</td>\n",
       "      <td>Government of Angola</td>\n",
       "      <td>China Gezhouba Group Company Ltd. (CGGC)|Gover...</td>\n",
       "      <td>NaN</td>\n",
       "      <td>6.612505e+07</td>\n",
       "      <td>-5.551103</td>\n",
       "      <td>12.195669</td>\n",
       "      <td>https://www.openstreetmap.org/way/234796859</td>\n",
       "      <td>precise</td>\n",
       "    </tr>\n",
       "    <tr>\n",
       "      <th>49</th>\n",
       "      <td>109</td>\n",
       "      <td>Rio Grande Container Terminal</td>\n",
       "      <td>Brazil</td>\n",
       "      <td>South America</td>\n",
       "      <td>2009</td>\n",
       "      <td>58633</td>\n",
       "      <td>No</td>\n",
       "      <td>No</td>\n",
       "      <td>China (People's Republic of)</td>\n",
       "      <td>0</td>\n",
       "      <td>...</td>\n",
       "      <td>Export-Import Bank of China</td>\n",
       "      <td>NaN</td>\n",
       "      <td>Wilson Sons Limited</td>\n",
       "      <td>Shanghai Zhenhua Heavy Industries Co., Ltd</td>\n",
       "      <td>NaN</td>\n",
       "      <td>2.508357e+07</td>\n",
       "      <td>-32.125991</td>\n",
       "      <td>-52.106431</td>\n",
       "      <td>https://www.openstreetmap.org/way/317560139</td>\n",
       "      <td>precise</td>\n",
       "    </tr>\n",
       "    <tr>\n",
       "      <th>51</th>\n",
       "      <td>113</td>\n",
       "      <td>Sierra Leone Fish Harbour</td>\n",
       "      <td>Sierra Leone</td>\n",
       "      <td>Africa</td>\n",
       "      <td>2019</td>\n",
       "      <td>62533</td>\n",
       "      <td>Yes</td>\n",
       "      <td>No</td>\n",
       "      <td>China (People's Republic of)</td>\n",
       "      <td>0</td>\n",
       "      <td>...</td>\n",
       "      <td>China Ministry of Commerce</td>\n",
       "      <td>NaN</td>\n",
       "      <td>Government of Sierra Leone|Sierra Leone Minist...</td>\n",
       "      <td>Zhejiang Communications Construction Group Co Ltd</td>\n",
       "      <td>NaN</td>\n",
       "      <td>7.362901e+07</td>\n",
       "      <td>8.272123</td>\n",
       "      <td>-13.167560</td>\n",
       "      <td>NaN</td>\n",
       "      <td>approximate location</td>\n",
       "    </tr>\n",
       "    <tr>\n",
       "      <th>19</th>\n",
       "      <td>54</td>\n",
       "      <td>Lekki Deep Sea Port</td>\n",
       "      <td>Nigeria</td>\n",
       "      <td>Africa</td>\n",
       "      <td>2019</td>\n",
       "      <td>85628</td>\n",
       "      <td>Yes</td>\n",
       "      <td>No</td>\n",
       "      <td>China (People's Republic of)</td>\n",
       "      <td>2020</td>\n",
       "      <td>...</td>\n",
       "      <td>China Development Bank (CDB)</td>\n",
       "      <td>NaN</td>\n",
       "      <td>Lekki Port LFTZ Enterprise Limited</td>\n",
       "      <td>China Harbour Engineering Co., Ltd.|Lekki Port...</td>\n",
       "      <td>China Export &amp; Credit Insurance Corporation (S...</td>\n",
       "      <td>7.067221e+08</td>\n",
       "      <td>6.427862</td>\n",
       "      <td>4.009314</td>\n",
       "      <td>https://www.openstreetmap.org/way/785409163#ma...</td>\n",
       "      <td>precise</td>\n",
       "    </tr>\n",
       "  </tbody>\n",
       "</table>\n",
       "<p>5 rows × 28 columns</p>\n",
       "</div>"
      ],
      "text/plain": [
       "    Unnamed: 0                      port_name     recipient         region  \\\n",
       "3            3       Autonomous Port of Kribi      Cameroon         Africa   \n",
       "31          77                Port of Cabinda        Angola         Africa   \n",
       "49         109  Rio Grande Container Terminal        Brazil  South America   \n",
       "51         113      Sierra Leone Fish Harbour  Sierra Leone         Africa   \n",
       "19          54            Lekki Deep Sea Port       Nigeria         Africa   \n",
       "\n",
       "    commitment_year  aiddata_tuff_project_id recommended_for_aggregates  \\\n",
       "3              2017                    53116                        Yes   \n",
       "31             2016                    66866                        Yes   \n",
       "49             2009                    58633                         No   \n",
       "51             2019                    62533                        Yes   \n",
       "19             2019                    85628                        Yes   \n",
       "\n",
       "   umbrella             financier_country  implementation_start_year  ...  \\\n",
       "3        No  China (People's Republic of)                          0  ...   \n",
       "31       No  China (People's Republic of)                          0  ...   \n",
       "49       No  China (People's Republic of)                          0  ...   \n",
       "51       No  China (People's Republic of)                          0  ...   \n",
       "19       No  China (People's Republic of)                       2020  ...   \n",
       "\n",
       "                                funding_agencies cofinancing_agencies  \\\n",
       "3   Export-Import Bank of China (China Eximbank)                  NaN   \n",
       "31                  China Development Bank (CDB)                  NaN   \n",
       "49                   Export-Import Bank of China                  NaN   \n",
       "51                    China Ministry of Commerce                  NaN   \n",
       "19                  China Development Bank (CDB)                  NaN   \n",
       "\n",
       "                                   receiving_agencies  \\\n",
       "3   Cameroon Ministry of Economy, Planning, and Re...   \n",
       "31                               Government of Angola   \n",
       "49                                Wilson Sons Limited   \n",
       "51  Government of Sierra Leone|Sierra Leone Minist...   \n",
       "19                 Lekki Port LFTZ Enterprise Limited   \n",
       "\n",
       "                                implementing_agencies  \\\n",
       "3   China Harbour Engineering Co., Ltd.|Government...   \n",
       "31  China Gezhouba Group Company Ltd. (CGGC)|Gover...   \n",
       "49         Shanghai Zhenhua Heavy Industries Co., Ltd   \n",
       "51  Zhejiang Communications Construction Group Co Ltd   \n",
       "19  China Harbour Engineering Co., Ltd.|Lekki Port...   \n",
       "\n",
       "                                 accountable_agencies amount_constant_usd2021  \\\n",
       "3                                                 NaN            1.705286e+08   \n",
       "31                                                NaN            6.612505e+07   \n",
       "49                                                NaN            2.508357e+07   \n",
       "51                                                NaN            7.362901e+07   \n",
       "19  China Export & Credit Insurance Corporation (S...            7.067221e+08   \n",
       "\n",
       "     latitude  longitude                                           osm_link  \\\n",
       "3    2.728108   9.867072        https://www.openstreetmap.org/way/325526034   \n",
       "31  -5.551103  12.195669        https://www.openstreetmap.org/way/234796859   \n",
       "49 -32.125991 -52.106431        https://www.openstreetmap.org/way/317560139   \n",
       "51   8.272123 -13.167560                                                NaN   \n",
       "19   6.427862   4.009314  https://www.openstreetmap.org/way/785409163#ma...   \n",
       "\n",
       "         precision_level  \n",
       "3                precise  \n",
       "31               precise  \n",
       "49               precise  \n",
       "51  approximate location  \n",
       "19               precise  \n",
       "\n",
       "[5 rows x 28 columns]"
      ]
     },
     "execution_count": 5,
     "metadata": {},
     "output_type": "execute_result"
    }
   ],
   "source": [
    "\"\"\"\n",
    "This is called \"filtered_projects\" because I took the original china-seaport-dataset and removed\n",
    "anything that's not Africa or South America. I could have done this purely in the dataframe but\n",
    "to me this was easier.\n",
    "\"\"\"\n",
    "data = pd.read_csv(\"../data/china-seaport-dataset-filtered-china-south-america.csv\")\n",
    "\n",
    "data.sample(5)"
   ]
  },
  {
   "cell_type": "code",
   "execution_count": 16,
   "metadata": {},
   "outputs": [
    {
     "data": {
      "application/vnd.plotly.v1+json": {
       "config": {
        "plotlyServerURL": "https://plot.ly"
       },
       "data": [
        {
         "geo": "geo",
         "hovertemplate": "<b>%{hovertext}</b><br><br>circle_size=%{marker.size}<br>amount_formatted=%{text}<br>latitude=%{lat}<br>longitude=%{lon}<extra></extra>",
         "hovertext": [
          "Angola",
          "Brazil",
          "Cameroon",
          "Colombia",
          "Comoros",
          "Congo",
          "Cote d'Ivoire",
          "Djibouti",
          "Ecuador",
          "Equatorial Guinea",
          "Gambia",
          "Ghana",
          "Guinea",
          "Guinea-Bissau",
          "Kenya",
          "Mauritania",
          "Mozambique",
          "Namibia",
          "Nigeria",
          "Sao Tome and Principe",
          "Sierra Leone",
          "Sudan",
          "Tanzania",
          "Togo",
          "Venezuela"
         ],
         "lat": [
          -5.5511034,
          -2.5738573,
          2.7281082,
          3.88703603,
          -12.397487,
          -4.7975373,
          5.25689636,
          11.5065556,
          -2.6933986,
          1.81983183,
          13.4441978,
          5.5350768,
          9.51408491,
          11.8390101,
          -0.1018786,
          17.9942819,
          -19.816415,
          -22.950149,
          6.42786207,
          0.4063815,
          8.490955,
          19.6193,
          -6.1674617,
          6.13748741,
          10.0690152
         ],
         "legendgroup": "",
         "lon": [
          12.1956689,
          -44.365872,
          9.86707244,
          -77.067859,
          43.696652,
          11.8503297,
          -4.0118364,
          43.208815,
          -80.248845,
          9.74928995,
          -16.57575,
          -0.2087174,
          -13.717324,
          -15.588719,
          34.7462921,
          -16.025545,
          34.8368554,
          14.4838443,
          4.00931354,
          6.6729511,
          -13.236596,
          37.2338,
          39.2485549,
          1.2754429,
          -64.869259
         ],
         "marker": {
          "color": "#636efa",
          "size": [
           50,
           10,
           50,
           10,
           30,
           50,
           30,
           30,
           10,
           30,
           20,
           30,
           30,
           10,
           20,
           30,
           30,
           20,
           30,
           10,
           50,
           30,
           30,
           10,
           30
          ],
          "sizemode": "area",
          "sizeref": 0.02,
          "symbol": "circle"
         },
         "mode": "markers+text",
         "name": "",
         "showlegend": false,
         "text": [
          "1.3B",
          "25.1M",
          "1.4B",
          "76.3M",
          "337.3M",
          "2.3B",
          "878.4M",
          "803.7M",
          "54.5M",
          "659.4M",
          "204.1M",
          "497.6M",
          "717.0M",
          "27.1M",
          "161.3M",
          "760.6M",
          "363.3M",
          "179.9M",
          "706.7M",
          "0",
          "1.6B",
          "264.8M",
          "915.2M",
          "57.4M",
          "441.1M"
         ],
         "type": "scattergeo"
        }
       ],
       "layout": {
        "geo": {
         "center": {},
         "domain": {
          "x": [
           0,
           1
          ],
          "y": [
           0,
           1
          ]
         },
         "projection": {
          "type": "natural earth"
         },
         "scope": "africa",
         "showcoastlines": true,
         "showcountries": true
        },
        "height": 800,
        "legend": {
         "itemsizing": "constant",
         "tracegroupgap": 0
        },
        "template": {
         "data": {
          "bar": [
           {
            "error_x": {
             "color": "#2a3f5f"
            },
            "error_y": {
             "color": "#2a3f5f"
            },
            "marker": {
             "line": {
              "color": "#E5ECF6",
              "width": 0.5
             },
             "pattern": {
              "fillmode": "overlay",
              "size": 10,
              "solidity": 0.2
             }
            },
            "type": "bar"
           }
          ],
          "barpolar": [
           {
            "marker": {
             "line": {
              "color": "#E5ECF6",
              "width": 0.5
             },
             "pattern": {
              "fillmode": "overlay",
              "size": 10,
              "solidity": 0.2
             }
            },
            "type": "barpolar"
           }
          ],
          "carpet": [
           {
            "aaxis": {
             "endlinecolor": "#2a3f5f",
             "gridcolor": "white",
             "linecolor": "white",
             "minorgridcolor": "white",
             "startlinecolor": "#2a3f5f"
            },
            "baxis": {
             "endlinecolor": "#2a3f5f",
             "gridcolor": "white",
             "linecolor": "white",
             "minorgridcolor": "white",
             "startlinecolor": "#2a3f5f"
            },
            "type": "carpet"
           }
          ],
          "choropleth": [
           {
            "colorbar": {
             "outlinewidth": 0,
             "ticks": ""
            },
            "type": "choropleth"
           }
          ],
          "contour": [
           {
            "colorbar": {
             "outlinewidth": 0,
             "ticks": ""
            },
            "colorscale": [
             [
              0,
              "#0d0887"
             ],
             [
              0.1111111111111111,
              "#46039f"
             ],
             [
              0.2222222222222222,
              "#7201a8"
             ],
             [
              0.3333333333333333,
              "#9c179e"
             ],
             [
              0.4444444444444444,
              "#bd3786"
             ],
             [
              0.5555555555555556,
              "#d8576b"
             ],
             [
              0.6666666666666666,
              "#ed7953"
             ],
             [
              0.7777777777777778,
              "#fb9f3a"
             ],
             [
              0.8888888888888888,
              "#fdca26"
             ],
             [
              1,
              "#f0f921"
             ]
            ],
            "type": "contour"
           }
          ],
          "contourcarpet": [
           {
            "colorbar": {
             "outlinewidth": 0,
             "ticks": ""
            },
            "type": "contourcarpet"
           }
          ],
          "heatmap": [
           {
            "colorbar": {
             "outlinewidth": 0,
             "ticks": ""
            },
            "colorscale": [
             [
              0,
              "#0d0887"
             ],
             [
              0.1111111111111111,
              "#46039f"
             ],
             [
              0.2222222222222222,
              "#7201a8"
             ],
             [
              0.3333333333333333,
              "#9c179e"
             ],
             [
              0.4444444444444444,
              "#bd3786"
             ],
             [
              0.5555555555555556,
              "#d8576b"
             ],
             [
              0.6666666666666666,
              "#ed7953"
             ],
             [
              0.7777777777777778,
              "#fb9f3a"
             ],
             [
              0.8888888888888888,
              "#fdca26"
             ],
             [
              1,
              "#f0f921"
             ]
            ],
            "type": "heatmap"
           }
          ],
          "heatmapgl": [
           {
            "colorbar": {
             "outlinewidth": 0,
             "ticks": ""
            },
            "colorscale": [
             [
              0,
              "#0d0887"
             ],
             [
              0.1111111111111111,
              "#46039f"
             ],
             [
              0.2222222222222222,
              "#7201a8"
             ],
             [
              0.3333333333333333,
              "#9c179e"
             ],
             [
              0.4444444444444444,
              "#bd3786"
             ],
             [
              0.5555555555555556,
              "#d8576b"
             ],
             [
              0.6666666666666666,
              "#ed7953"
             ],
             [
              0.7777777777777778,
              "#fb9f3a"
             ],
             [
              0.8888888888888888,
              "#fdca26"
             ],
             [
              1,
              "#f0f921"
             ]
            ],
            "type": "heatmapgl"
           }
          ],
          "histogram": [
           {
            "marker": {
             "pattern": {
              "fillmode": "overlay",
              "size": 10,
              "solidity": 0.2
             }
            },
            "type": "histogram"
           }
          ],
          "histogram2d": [
           {
            "colorbar": {
             "outlinewidth": 0,
             "ticks": ""
            },
            "colorscale": [
             [
              0,
              "#0d0887"
             ],
             [
              0.1111111111111111,
              "#46039f"
             ],
             [
              0.2222222222222222,
              "#7201a8"
             ],
             [
              0.3333333333333333,
              "#9c179e"
             ],
             [
              0.4444444444444444,
              "#bd3786"
             ],
             [
              0.5555555555555556,
              "#d8576b"
             ],
             [
              0.6666666666666666,
              "#ed7953"
             ],
             [
              0.7777777777777778,
              "#fb9f3a"
             ],
             [
              0.8888888888888888,
              "#fdca26"
             ],
             [
              1,
              "#f0f921"
             ]
            ],
            "type": "histogram2d"
           }
          ],
          "histogram2dcontour": [
           {
            "colorbar": {
             "outlinewidth": 0,
             "ticks": ""
            },
            "colorscale": [
             [
              0,
              "#0d0887"
             ],
             [
              0.1111111111111111,
              "#46039f"
             ],
             [
              0.2222222222222222,
              "#7201a8"
             ],
             [
              0.3333333333333333,
              "#9c179e"
             ],
             [
              0.4444444444444444,
              "#bd3786"
             ],
             [
              0.5555555555555556,
              "#d8576b"
             ],
             [
              0.6666666666666666,
              "#ed7953"
             ],
             [
              0.7777777777777778,
              "#fb9f3a"
             ],
             [
              0.8888888888888888,
              "#fdca26"
             ],
             [
              1,
              "#f0f921"
             ]
            ],
            "type": "histogram2dcontour"
           }
          ],
          "mesh3d": [
           {
            "colorbar": {
             "outlinewidth": 0,
             "ticks": ""
            },
            "type": "mesh3d"
           }
          ],
          "parcoords": [
           {
            "line": {
             "colorbar": {
              "outlinewidth": 0,
              "ticks": ""
             }
            },
            "type": "parcoords"
           }
          ],
          "pie": [
           {
            "automargin": true,
            "type": "pie"
           }
          ],
          "scatter": [
           {
            "fillpattern": {
             "fillmode": "overlay",
             "size": 10,
             "solidity": 0.2
            },
            "type": "scatter"
           }
          ],
          "scatter3d": [
           {
            "line": {
             "colorbar": {
              "outlinewidth": 0,
              "ticks": ""
             }
            },
            "marker": {
             "colorbar": {
              "outlinewidth": 0,
              "ticks": ""
             }
            },
            "type": "scatter3d"
           }
          ],
          "scattercarpet": [
           {
            "marker": {
             "colorbar": {
              "outlinewidth": 0,
              "ticks": ""
             }
            },
            "type": "scattercarpet"
           }
          ],
          "scattergeo": [
           {
            "marker": {
             "colorbar": {
              "outlinewidth": 0,
              "ticks": ""
             }
            },
            "type": "scattergeo"
           }
          ],
          "scattergl": [
           {
            "marker": {
             "colorbar": {
              "outlinewidth": 0,
              "ticks": ""
             }
            },
            "type": "scattergl"
           }
          ],
          "scattermapbox": [
           {
            "marker": {
             "colorbar": {
              "outlinewidth": 0,
              "ticks": ""
             }
            },
            "type": "scattermapbox"
           }
          ],
          "scatterpolar": [
           {
            "marker": {
             "colorbar": {
              "outlinewidth": 0,
              "ticks": ""
             }
            },
            "type": "scatterpolar"
           }
          ],
          "scatterpolargl": [
           {
            "marker": {
             "colorbar": {
              "outlinewidth": 0,
              "ticks": ""
             }
            },
            "type": "scatterpolargl"
           }
          ],
          "scatterternary": [
           {
            "marker": {
             "colorbar": {
              "outlinewidth": 0,
              "ticks": ""
             }
            },
            "type": "scatterternary"
           }
          ],
          "surface": [
           {
            "colorbar": {
             "outlinewidth": 0,
             "ticks": ""
            },
            "colorscale": [
             [
              0,
              "#0d0887"
             ],
             [
              0.1111111111111111,
              "#46039f"
             ],
             [
              0.2222222222222222,
              "#7201a8"
             ],
             [
              0.3333333333333333,
              "#9c179e"
             ],
             [
              0.4444444444444444,
              "#bd3786"
             ],
             [
              0.5555555555555556,
              "#d8576b"
             ],
             [
              0.6666666666666666,
              "#ed7953"
             ],
             [
              0.7777777777777778,
              "#fb9f3a"
             ],
             [
              0.8888888888888888,
              "#fdca26"
             ],
             [
              1,
              "#f0f921"
             ]
            ],
            "type": "surface"
           }
          ],
          "table": [
           {
            "cells": {
             "fill": {
              "color": "#EBF0F8"
             },
             "line": {
              "color": "white"
             }
            },
            "header": {
             "fill": {
              "color": "#C8D4E3"
             },
             "line": {
              "color": "white"
             }
            },
            "type": "table"
           }
          ]
         },
         "layout": {
          "annotationdefaults": {
           "arrowcolor": "#2a3f5f",
           "arrowhead": 0,
           "arrowwidth": 1
          },
          "autotypenumbers": "strict",
          "coloraxis": {
           "colorbar": {
            "outlinewidth": 0,
            "ticks": ""
           }
          },
          "colorscale": {
           "diverging": [
            [
             0,
             "#8e0152"
            ],
            [
             0.1,
             "#c51b7d"
            ],
            [
             0.2,
             "#de77ae"
            ],
            [
             0.3,
             "#f1b6da"
            ],
            [
             0.4,
             "#fde0ef"
            ],
            [
             0.5,
             "#f7f7f7"
            ],
            [
             0.6,
             "#e6f5d0"
            ],
            [
             0.7,
             "#b8e186"
            ],
            [
             0.8,
             "#7fbc41"
            ],
            [
             0.9,
             "#4d9221"
            ],
            [
             1,
             "#276419"
            ]
           ],
           "sequential": [
            [
             0,
             "#0d0887"
            ],
            [
             0.1111111111111111,
             "#46039f"
            ],
            [
             0.2222222222222222,
             "#7201a8"
            ],
            [
             0.3333333333333333,
             "#9c179e"
            ],
            [
             0.4444444444444444,
             "#bd3786"
            ],
            [
             0.5555555555555556,
             "#d8576b"
            ],
            [
             0.6666666666666666,
             "#ed7953"
            ],
            [
             0.7777777777777778,
             "#fb9f3a"
            ],
            [
             0.8888888888888888,
             "#fdca26"
            ],
            [
             1,
             "#f0f921"
            ]
           ],
           "sequentialminus": [
            [
             0,
             "#0d0887"
            ],
            [
             0.1111111111111111,
             "#46039f"
            ],
            [
             0.2222222222222222,
             "#7201a8"
            ],
            [
             0.3333333333333333,
             "#9c179e"
            ],
            [
             0.4444444444444444,
             "#bd3786"
            ],
            [
             0.5555555555555556,
             "#d8576b"
            ],
            [
             0.6666666666666666,
             "#ed7953"
            ],
            [
             0.7777777777777778,
             "#fb9f3a"
            ],
            [
             0.8888888888888888,
             "#fdca26"
            ],
            [
             1,
             "#f0f921"
            ]
           ]
          },
          "colorway": [
           "#636efa",
           "#EF553B",
           "#00cc96",
           "#ab63fa",
           "#FFA15A",
           "#19d3f3",
           "#FF6692",
           "#B6E880",
           "#FF97FF",
           "#FECB52"
          ],
          "font": {
           "color": "#2a3f5f"
          },
          "geo": {
           "bgcolor": "white",
           "lakecolor": "white",
           "landcolor": "#E5ECF6",
           "showlakes": true,
           "showland": true,
           "subunitcolor": "white"
          },
          "hoverlabel": {
           "align": "left"
          },
          "hovermode": "closest",
          "mapbox": {
           "style": "light"
          },
          "paper_bgcolor": "white",
          "plot_bgcolor": "#E5ECF6",
          "polar": {
           "angularaxis": {
            "gridcolor": "white",
            "linecolor": "white",
            "ticks": ""
           },
           "bgcolor": "#E5ECF6",
           "radialaxis": {
            "gridcolor": "white",
            "linecolor": "white",
            "ticks": ""
           }
          },
          "scene": {
           "xaxis": {
            "backgroundcolor": "#E5ECF6",
            "gridcolor": "white",
            "gridwidth": 2,
            "linecolor": "white",
            "showbackground": true,
            "ticks": "",
            "zerolinecolor": "white"
           },
           "yaxis": {
            "backgroundcolor": "#E5ECF6",
            "gridcolor": "white",
            "gridwidth": 2,
            "linecolor": "white",
            "showbackground": true,
            "ticks": "",
            "zerolinecolor": "white"
           },
           "zaxis": {
            "backgroundcolor": "#E5ECF6",
            "gridcolor": "white",
            "gridwidth": 2,
            "linecolor": "white",
            "showbackground": true,
            "ticks": "",
            "zerolinecolor": "white"
           }
          },
          "shapedefaults": {
           "line": {
            "color": "#2a3f5f"
           }
          },
          "ternary": {
           "aaxis": {
            "gridcolor": "white",
            "linecolor": "white",
            "ticks": ""
           },
           "baxis": {
            "gridcolor": "white",
            "linecolor": "white",
            "ticks": ""
           },
           "bgcolor": "#E5ECF6",
           "caxis": {
            "gridcolor": "white",
            "linecolor": "white",
            "ticks": ""
           }
          },
          "title": {
           "x": 0.05
          },
          "xaxis": {
           "automargin": true,
           "gridcolor": "white",
           "linecolor": "white",
           "ticks": "",
           "title": {
            "standoff": 15
           },
           "zerolinecolor": "white",
           "zerolinewidth": 2
          },
          "yaxis": {
           "automargin": true,
           "gridcolor": "white",
           "linecolor": "white",
           "ticks": "",
           "title": {
            "standoff": 15
           },
           "zerolinecolor": "white",
           "zerolinewidth": 2
          }
         }
        },
        "title": {
         "text": "Chinese Seaport Investments in Africa"
        },
        "width": 1200
       }
      }
     },
     "metadata": {},
     "output_type": "display_data"
    }
   ],
   "source": [
    "\"\"\"\n",
    "We're going to try to visualize the amount of investment per country. This dataset\n",
    "has duplicate entries (basically additional investments in the same port, etc). So we're \n",
    "going to combine the duplictates and sum their totals. Then we'll plot those totals.\n",
    "\n",
    "UPDATE: Holy cow this was cursed. I can't believe I blew a whole day on just this cell.\n",
    "\"\"\"\n",
    "investment_data = data.groupby('recipient').agg(\n",
    "    {'amount_constant_usd2021': 'sum', 'latitude': 'first', 'longitude': 'first'}).reset_index()\n",
    "\n",
    "# This changes is for normalizing the dollar amount. '300M' instead of 300,000,000 or \n",
    "# 1.2B instead of 1,200,000,000.\n",
    "def format_amount(amount):\n",
    "    if amount >= 1e9:\n",
    "        return f\"{amount / 1e9:.1f}B\"\n",
    "    elif amount >= 1e6:\n",
    "        return f\"{amount / 1e6:.1f}M\"\n",
    "    else:\n",
    "        return f\"{amount:.0f}\"\n",
    "\n",
    "# This takes the above function and sets the formatted output as a column that we can then use to set the\n",
    "# circle size.\n",
    "investment_data['amount_formatted'] = investment_data['amount_constant_usd2021'].apply(\n",
    "    format_amount)\n",
    "\n",
    "\n",
    "\"\"\"\n",
    "I wanted to put a circle over each country and have that circle be relative the amount invested.\n",
    "The problem is the scaling between a couple hundred million and a billion was just too much. The \n",
    "billion dollar projects were eating the map. So now I'm categorizing the circle radius and capping it.\n",
    "\"\"\"\n",
    "def get_circle_size(amount):\n",
    "    if amount > 1e9:\n",
    "        return 50\n",
    "    elif amount > 250e6:\n",
    "        return 30\n",
    "    elif amount > 100e6:\n",
    "        return 20\n",
    "    else:\n",
    "        return 10\n",
    "\n",
    "# This is lazy but now we're just setting the circle size as a column lol\n",
    "investment_data['circle_size'] = investment_data['amount_constant_usd2021'].apply(\n",
    "    get_circle_size)\n",
    "\n",
    "# Using the plotly stuff from my midterm.\n",
    "fig = px.scatter_geo(investment_data,\n",
    "                     lat='latitude',\n",
    "                     lon='longitude',\n",
    "                     text='amount_formatted',\n",
    "                     size='circle_size',\n",
    "                     hover_name='recipient',\n",
    "                     size_max=50,\n",
    "                     title='Chinese Seaport Investments in Africa')\n",
    "\n",
    "fig.update_geos(\n",
    "    projection_type=\"natural earth\",\n",
    "    showcoastlines=True,\n",
    "    showcountries=True,\n",
    "    scope=\"africa\"\n",
    ")\n",
    "\n",
    "fig.update_layout(\n",
    "    geo=dict(\n",
    "        showcoastlines=True,\n",
    "        showcountries=True\n",
    "    ),\n",
    "    width=1200,\n",
    "    height=800\n",
    ")\n",
    "\n",
    "fig.show()"
   ]
  },
  {
   "cell_type": "code",
   "execution_count": 18,
   "metadata": {},
   "outputs": [
    {
     "data": {
      "text/html": [
       "<div>\n",
       "<style scoped>\n",
       "    .dataframe tbody tr th:only-of-type {\n",
       "        vertical-align: middle;\n",
       "    }\n",
       "\n",
       "    .dataframe tbody tr th {\n",
       "        vertical-align: top;\n",
       "    }\n",
       "\n",
       "    .dataframe thead th {\n",
       "        text-align: right;\n",
       "    }\n",
       "</style>\n",
       "<table border=\"1\" class=\"dataframe\">\n",
       "  <thead>\n",
       "    <tr style=\"text-align: right;\">\n",
       "      <th></th>\n",
       "      <th>Unnamed: 0</th>\n",
       "      <th>port_name</th>\n",
       "      <th>recipient</th>\n",
       "      <th>region</th>\n",
       "      <th>commitment_year</th>\n",
       "      <th>aiddata_tuff_project_id</th>\n",
       "      <th>recommended_for_aggregates</th>\n",
       "      <th>umbrella</th>\n",
       "      <th>financier_country</th>\n",
       "      <th>implementation_start_year</th>\n",
       "      <th>...</th>\n",
       "      <th>receiving_agencies</th>\n",
       "      <th>implementing_agencies</th>\n",
       "      <th>accountable_agencies</th>\n",
       "      <th>amount_constant_usd2021</th>\n",
       "      <th>latitude</th>\n",
       "      <th>longitude</th>\n",
       "      <th>osm_link</th>\n",
       "      <th>precision_level</th>\n",
       "      <th>gdp</th>\n",
       "      <th>debt</th>\n",
       "    </tr>\n",
       "  </thead>\n",
       "  <tbody>\n",
       "    <tr>\n",
       "      <th>0</th>\n",
       "      <td>0</td>\n",
       "      <td>Alto do Bandim Fishing Port</td>\n",
       "      <td>Guinea-Bissau</td>\n",
       "      <td>Africa</td>\n",
       "      <td>2017</td>\n",
       "      <td>57221</td>\n",
       "      <td>Yes</td>\n",
       "      <td>No</td>\n",
       "      <td>China (People's Republic of)</td>\n",
       "      <td>2018</td>\n",
       "      <td>...</td>\n",
       "      <td>Government of Guinea-Bissau</td>\n",
       "      <td>China Railway Guangzhou Engineering Bureau Gro...</td>\n",
       "      <td>NaN</td>\n",
       "      <td>2.711405e+07</td>\n",
       "      <td>11.839010</td>\n",
       "      <td>-15.588719</td>\n",
       "      <td>https://www.openstreetmap.org/node/5648640456</td>\n",
       "      <td>boundary not clear</td>\n",
       "      <td>None</td>\n",
       "      <td>None</td>\n",
       "    </tr>\n",
       "    <tr>\n",
       "      <th>1</th>\n",
       "      <td>1</td>\n",
       "      <td>Autonomous Port of Abidjan</td>\n",
       "      <td>Cote d'Ivoire</td>\n",
       "      <td>Africa</td>\n",
       "      <td>2014</td>\n",
       "      <td>30857</td>\n",
       "      <td>Yes</td>\n",
       "      <td>No</td>\n",
       "      <td>China (People's Republic of)</td>\n",
       "      <td>2015</td>\n",
       "      <td>...</td>\n",
       "      <td>Abidjan Autonomous Port Authority (PAA)|Govern...</td>\n",
       "      <td>Abidjan Autonomous Port Authority (PAA)|Bollor...</td>\n",
       "      <td>NaN</td>\n",
       "      <td>8.783583e+08</td>\n",
       "      <td>5.256896</td>\n",
       "      <td>-4.011836</td>\n",
       "      <td>https://www.openstreetmap.org/way/852907664</td>\n",
       "      <td>boundary not clear</td>\n",
       "      <td>None</td>\n",
       "      <td>None</td>\n",
       "    </tr>\n",
       "    <tr>\n",
       "      <th>2</th>\n",
       "      <td>2</td>\n",
       "      <td>Autonomous Port of Kribi</td>\n",
       "      <td>Cameroon</td>\n",
       "      <td>Africa</td>\n",
       "      <td>2011</td>\n",
       "      <td>350</td>\n",
       "      <td>Yes</td>\n",
       "      <td>No</td>\n",
       "      <td>China (People's Republic of)</td>\n",
       "      <td>2010</td>\n",
       "      <td>...</td>\n",
       "      <td>Cameroon Ministry of Economy, Planning, and Re...</td>\n",
       "      <td>Cameroon Ministry of Economy, Planning, and Re...</td>\n",
       "      <td>NaN</td>\n",
       "      <td>5.202393e+08</td>\n",
       "      <td>2.728108</td>\n",
       "      <td>9.867072</td>\n",
       "      <td>https://www.openstreetmap.org/way/325526034</td>\n",
       "      <td>precise</td>\n",
       "      <td>None</td>\n",
       "      <td>None</td>\n",
       "    </tr>\n",
       "    <tr>\n",
       "      <th>3</th>\n",
       "      <td>3</td>\n",
       "      <td>Autonomous Port of Kribi</td>\n",
       "      <td>Cameroon</td>\n",
       "      <td>Africa</td>\n",
       "      <td>2017</td>\n",
       "      <td>53116</td>\n",
       "      <td>Yes</td>\n",
       "      <td>No</td>\n",
       "      <td>China (People's Republic of)</td>\n",
       "      <td>0</td>\n",
       "      <td>...</td>\n",
       "      <td>Cameroon Ministry of Economy, Planning, and Re...</td>\n",
       "      <td>China Harbour Engineering Co., Ltd.|Government...</td>\n",
       "      <td>NaN</td>\n",
       "      <td>1.705286e+08</td>\n",
       "      <td>2.728108</td>\n",
       "      <td>9.867072</td>\n",
       "      <td>https://www.openstreetmap.org/way/325526034</td>\n",
       "      <td>precise</td>\n",
       "      <td>None</td>\n",
       "      <td>None</td>\n",
       "    </tr>\n",
       "    <tr>\n",
       "      <th>4</th>\n",
       "      <td>4</td>\n",
       "      <td>Autonomous Port of Kribi</td>\n",
       "      <td>Cameroon</td>\n",
       "      <td>Africa</td>\n",
       "      <td>2017</td>\n",
       "      <td>53396</td>\n",
       "      <td>Yes</td>\n",
       "      <td>No</td>\n",
       "      <td>China (People's Republic of)</td>\n",
       "      <td>0</td>\n",
       "      <td>...</td>\n",
       "      <td>Cameroon Ministry of Economy, Planning, and Re...</td>\n",
       "      <td>China Harbour Engineering Co., Ltd.|Government...</td>\n",
       "      <td>NaN</td>\n",
       "      <td>6.044935e+08</td>\n",
       "      <td>2.728108</td>\n",
       "      <td>9.867072</td>\n",
       "      <td>https://www.openstreetmap.org/way/325526034</td>\n",
       "      <td>precise</td>\n",
       "      <td>None</td>\n",
       "      <td>None</td>\n",
       "    </tr>\n",
       "  </tbody>\n",
       "</table>\n",
       "<p>5 rows × 30 columns</p>\n",
       "</div>"
      ],
      "text/plain": [
       "   Unnamed: 0                    port_name      recipient  region  \\\n",
       "0           0  Alto do Bandim Fishing Port  Guinea-Bissau  Africa   \n",
       "1           1   Autonomous Port of Abidjan  Cote d'Ivoire  Africa   \n",
       "2           2     Autonomous Port of Kribi       Cameroon  Africa   \n",
       "3           3     Autonomous Port of Kribi       Cameroon  Africa   \n",
       "4           4     Autonomous Port of Kribi       Cameroon  Africa   \n",
       "\n",
       "   commitment_year  aiddata_tuff_project_id recommended_for_aggregates  \\\n",
       "0             2017                    57221                        Yes   \n",
       "1             2014                    30857                        Yes   \n",
       "2             2011                      350                        Yes   \n",
       "3             2017                    53116                        Yes   \n",
       "4             2017                    53396                        Yes   \n",
       "\n",
       "  umbrella             financier_country  implementation_start_year  ...  \\\n",
       "0       No  China (People's Republic of)                       2018  ...   \n",
       "1       No  China (People's Republic of)                       2015  ...   \n",
       "2       No  China (People's Republic of)                       2010  ...   \n",
       "3       No  China (People's Republic of)                          0  ...   \n",
       "4       No  China (People's Republic of)                          0  ...   \n",
       "\n",
       "                                  receiving_agencies  \\\n",
       "0                        Government of Guinea-Bissau   \n",
       "1  Abidjan Autonomous Port Authority (PAA)|Govern...   \n",
       "2  Cameroon Ministry of Economy, Planning, and Re...   \n",
       "3  Cameroon Ministry of Economy, Planning, and Re...   \n",
       "4  Cameroon Ministry of Economy, Planning, and Re...   \n",
       "\n",
       "                               implementing_agencies accountable_agencies  \\\n",
       "0  China Railway Guangzhou Engineering Bureau Gro...                  NaN   \n",
       "1  Abidjan Autonomous Port Authority (PAA)|Bollor...                  NaN   \n",
       "2  Cameroon Ministry of Economy, Planning, and Re...                  NaN   \n",
       "3  China Harbour Engineering Co., Ltd.|Government...                  NaN   \n",
       "4  China Harbour Engineering Co., Ltd.|Government...                  NaN   \n",
       "\n",
       "  amount_constant_usd2021   latitude  longitude  \\\n",
       "0            2.711405e+07  11.839010 -15.588719   \n",
       "1            8.783583e+08   5.256896  -4.011836   \n",
       "2            5.202393e+08   2.728108   9.867072   \n",
       "3            1.705286e+08   2.728108   9.867072   \n",
       "4            6.044935e+08   2.728108   9.867072   \n",
       "\n",
       "                                        osm_link     precision_level   gdp  \\\n",
       "0  https://www.openstreetmap.org/node/5648640456  boundary not clear  None   \n",
       "1    https://www.openstreetmap.org/way/852907664  boundary not clear  None   \n",
       "2    https://www.openstreetmap.org/way/325526034             precise  None   \n",
       "3    https://www.openstreetmap.org/way/325526034             precise  None   \n",
       "4    https://www.openstreetmap.org/way/325526034             precise  None   \n",
       "\n",
       "   debt  \n",
       "0  None  \n",
       "1  None  \n",
       "2  None  \n",
       "3  None  \n",
       "4  None  \n",
       "\n",
       "[5 rows x 30 columns]"
      ]
     },
     "execution_count": 18,
     "metadata": {},
     "output_type": "execute_result"
    }
   ],
   "source": [
    "\"\"\"\n",
    "The next step is to grab the GDP and total debt for each country. China does its long-term planning on low income\n",
    "countries in order to 'debt trap' them with loans China knows they can't pay off in the long term. We'll turn these \n",
    "figures into a ratio which we will use as a predictor for the model later.\n",
    "\"\"\"\n",
    "\n",
    "# Filter out duplicates based on the recipient column\n",
    "unique_recipients = data['recipient'].drop_duplicates().reset_index(drop=True)\n",
    "\n",
    "# Define the indicators for GDP and total debt\n",
    "gdp_indicator = 'NY.GDP.MKTP.CD'\n",
    "debt_indicator = 'GC.DOD.TOTL.GD.ZS'\n",
    "\n",
    "# Initialize lists to store GDP and debt data\n",
    "gdp_list = []\n",
    "debt_list = []\n",
    "\n",
    "# Fetch GDP and total debt data for each unique recipient\n",
    "for country in unique_recipients:\n",
    "    # Fetch GDP data\n",
    "    gdp_url = f'http://api.worldbank.org/v2/country/{\n",
    "        country}/indicator/{gdp_indicator}?format=json&per_page=1'\n",
    "    gdp_response = requests.get(gdp_url)\n",
    "    if gdp_response.status_code == 200 and len(gdp_response.json()) > 1:\n",
    "        gdp_value = gdp_response.json()[1][0]['value']\n",
    "    else:\n",
    "        gdp_value = None\n",
    "    gdp_list.append(gdp_value)\n",
    "\n",
    "    # Fetch total debt data\n",
    "    debt_url = f'http://api.worldbank.org/v2/country/{\n",
    "        country}/indicator/{debt_indicator}?format=json&per_page=1'\n",
    "    debt_response = requests.get(debt_url)\n",
    "    if debt_response.status_code == 200 and len(debt_response.json()) > 1:\n",
    "        debt_value = debt_response.json()[1][0]['value']\n",
    "    else:\n",
    "        debt_value = None\n",
    "    debt_list.append(debt_value)\n",
    "\n",
    "# Create a new dataframe with the fetched data\n",
    "gdp_debt_df = pd.DataFrame({\n",
    "    'recipient': unique_recipients,\n",
    "    'gdp': gdp_list,\n",
    "    'debt': debt_list\n",
    "})\n",
    "\n",
    "# Merge the new dataframe with the original data\n",
    "merged_data = pd.merge(data, gdp_debt_df, on='recipient', how='left')\n",
    "\n",
    "# Display the merged dataframe\n",
    "merged_data.head()"
   ]
  },
  {
   "cell_type": "code",
   "execution_count": 20,
   "metadata": {},
   "outputs": [
    {
     "data": {
      "text/html": [
       "<div>\n",
       "<style scoped>\n",
       "    .dataframe tbody tr th:only-of-type {\n",
       "        vertical-align: middle;\n",
       "    }\n",
       "\n",
       "    .dataframe tbody tr th {\n",
       "        vertical-align: top;\n",
       "    }\n",
       "\n",
       "    .dataframe thead th {\n",
       "        text-align: right;\n",
       "    }\n",
       "</style>\n",
       "<table border=\"1\" class=\"dataframe\">\n",
       "  <thead>\n",
       "    <tr style=\"text-align: right;\">\n",
       "      <th></th>\n",
       "      <th>Unnamed: 0</th>\n",
       "      <th>port_name</th>\n",
       "      <th>recipient</th>\n",
       "      <th>region</th>\n",
       "      <th>commitment_year</th>\n",
       "      <th>aiddata_tuff_project_id</th>\n",
       "      <th>recommended_for_aggregates</th>\n",
       "      <th>umbrella</th>\n",
       "      <th>financier_country</th>\n",
       "      <th>implementation_start_year</th>\n",
       "      <th>...</th>\n",
       "      <th>receiving_agencies</th>\n",
       "      <th>implementing_agencies</th>\n",
       "      <th>accountable_agencies</th>\n",
       "      <th>amount_constant_usd2021</th>\n",
       "      <th>latitude</th>\n",
       "      <th>longitude</th>\n",
       "      <th>osm_link</th>\n",
       "      <th>precision_level</th>\n",
       "      <th>gdp</th>\n",
       "      <th>debt</th>\n",
       "    </tr>\n",
       "  </thead>\n",
       "  <tbody>\n",
       "    <tr>\n",
       "      <th>54</th>\n",
       "      <td>119</td>\n",
       "      <td>Port Sudan</td>\n",
       "      <td>Sudan</td>\n",
       "      <td>Africa</td>\n",
       "      <td>2001</td>\n",
       "      <td>97783</td>\n",
       "      <td>Yes</td>\n",
       "      <td>No</td>\n",
       "      <td>China (People's Republic of)</td>\n",
       "      <td>2001</td>\n",
       "      <td>...</td>\n",
       "      <td>Sea Ports Corporation (SPC)</td>\n",
       "      <td>China Harbour Engineering Co., Ltd. (CHEC)</td>\n",
       "      <td>NaN</td>\n",
       "      <td>2.778564e+07</td>\n",
       "      <td>19.598400</td>\n",
       "      <td>37.227000</td>\n",
       "      <td>https://www.openstreetmap.org/way/627215576</td>\n",
       "      <td>precise</td>\n",
       "      <td>None</td>\n",
       "      <td>None</td>\n",
       "    </tr>\n",
       "    <tr>\n",
       "      <th>45</th>\n",
       "      <td>104</td>\n",
       "      <td>Porto Sul Intermodal Logistics Complex</td>\n",
       "      <td>Brazil</td>\n",
       "      <td>South America</td>\n",
       "      <td>2017</td>\n",
       "      <td>62855</td>\n",
       "      <td>No</td>\n",
       "      <td>No</td>\n",
       "      <td>China (People's Republic of)</td>\n",
       "      <td>0</td>\n",
       "      <td>...</td>\n",
       "      <td>Government of Brazil</td>\n",
       "      <td>Bahia Mineração (BAMIN)|China Communications C...</td>\n",
       "      <td>NaN</td>\n",
       "      <td>0.000000e+00</td>\n",
       "      <td>-14.745549</td>\n",
       "      <td>-39.195522</td>\n",
       "      <td>NaN</td>\n",
       "      <td>approximate location</td>\n",
       "      <td>None</td>\n",
       "      <td>None</td>\n",
       "    </tr>\n",
       "    <tr>\n",
       "      <th>41</th>\n",
       "      <td>100</td>\n",
       "      <td>Port of Tema</td>\n",
       "      <td>Ghana</td>\n",
       "      <td>Africa</td>\n",
       "      <td>2016</td>\n",
       "      <td>59302</td>\n",
       "      <td>Yes</td>\n",
       "      <td>No</td>\n",
       "      <td>China (People's Republic of)</td>\n",
       "      <td>2016</td>\n",
       "      <td>...</td>\n",
       "      <td>Meridian Port Services Limited</td>\n",
       "      <td>AECOM|China Harbour Engineering Co., Ltd.</td>\n",
       "      <td>NaN</td>\n",
       "      <td>2.727658e+08</td>\n",
       "      <td>5.615523</td>\n",
       "      <td>-0.014969</td>\n",
       "      <td>https://www.openstreetmap.org/way/666974334</td>\n",
       "      <td>precise</td>\n",
       "      <td>None</td>\n",
       "      <td>None</td>\n",
       "    </tr>\n",
       "    <tr>\n",
       "      <th>18</th>\n",
       "      <td>50</td>\n",
       "      <td>Kisumu Port</td>\n",
       "      <td>Kenya</td>\n",
       "      <td>Africa</td>\n",
       "      <td>2017</td>\n",
       "      <td>52927</td>\n",
       "      <td>No</td>\n",
       "      <td>No</td>\n",
       "      <td>China (People's Republic of)</td>\n",
       "      <td>0</td>\n",
       "      <td>...</td>\n",
       "      <td>Government of Kenya</td>\n",
       "      <td>Kenya Ports Authority (KPA)</td>\n",
       "      <td>NaN</td>\n",
       "      <td>1.613273e+08</td>\n",
       "      <td>-0.101879</td>\n",
       "      <td>34.746292</td>\n",
       "      <td>https://www.openstreetmap.org/way/499869532</td>\n",
       "      <td>precise</td>\n",
       "      <td>None</td>\n",
       "      <td>None</td>\n",
       "    </tr>\n",
       "    <tr>\n",
       "      <th>37</th>\n",
       "      <td>87</td>\n",
       "      <td>Port of Moroni</td>\n",
       "      <td>Comoros</td>\n",
       "      <td>Africa</td>\n",
       "      <td>2018</td>\n",
       "      <td>57664</td>\n",
       "      <td>No</td>\n",
       "      <td>No</td>\n",
       "      <td>China (People's Republic of)</td>\n",
       "      <td>0</td>\n",
       "      <td>...</td>\n",
       "      <td>Government of Comoros</td>\n",
       "      <td>China Road &amp; Bridge Corporation (CRBC)</td>\n",
       "      <td>NaN</td>\n",
       "      <td>1.700523e+08</td>\n",
       "      <td>-11.705466</td>\n",
       "      <td>43.247852</td>\n",
       "      <td>https://www.openstreetmap.org/way/144754155</td>\n",
       "      <td>precise</td>\n",
       "      <td>None</td>\n",
       "      <td>None</td>\n",
       "    </tr>\n",
       "    <tr>\n",
       "      <th>40</th>\n",
       "      <td>97</td>\n",
       "      <td>Port of Takoradi</td>\n",
       "      <td>Ghana</td>\n",
       "      <td>Africa</td>\n",
       "      <td>2011</td>\n",
       "      <td>73196</td>\n",
       "      <td>No</td>\n",
       "      <td>No</td>\n",
       "      <td>China (People's Republic of)</td>\n",
       "      <td>0</td>\n",
       "      <td>...</td>\n",
       "      <td>Government of Ghana</td>\n",
       "      <td>China Harbour Engineering Co., Ltd.</td>\n",
       "      <td>NaN</td>\n",
       "      <td>0.000000e+00</td>\n",
       "      <td>4.887073</td>\n",
       "      <td>-1.735196</td>\n",
       "      <td>https://www.openstreetmap.org/way/756865759</td>\n",
       "      <td>boundary not clear</td>\n",
       "      <td>None</td>\n",
       "      <td>None</td>\n",
       "    </tr>\n",
       "    <tr>\n",
       "      <th>33</th>\n",
       "      <td>79</td>\n",
       "      <td>Port of Caio</td>\n",
       "      <td>Angola</td>\n",
       "      <td>Africa</td>\n",
       "      <td>2016</td>\n",
       "      <td>68708</td>\n",
       "      <td>Yes</td>\n",
       "      <td>No</td>\n",
       "      <td>China (People's Republic of)</td>\n",
       "      <td>0</td>\n",
       "      <td>...</td>\n",
       "      <td>Government of Angola</td>\n",
       "      <td>Angola Ministry of Transportation|Caioporto, S...</td>\n",
       "      <td>China Export &amp; Credit Insurance Corporation (S...</td>\n",
       "      <td>1.100510e+09</td>\n",
       "      <td>-5.478222</td>\n",
       "      <td>12.226776</td>\n",
       "      <td>https://www.openstreetmap.org/way/977011440#ma...</td>\n",
       "      <td>precise</td>\n",
       "      <td>None</td>\n",
       "      <td>None</td>\n",
       "    </tr>\n",
       "    <tr>\n",
       "      <th>34</th>\n",
       "      <td>81</td>\n",
       "      <td>Port of Dar es Salaam</td>\n",
       "      <td>Tanzania</td>\n",
       "      <td>Africa</td>\n",
       "      <td>2012</td>\n",
       "      <td>23231</td>\n",
       "      <td>No</td>\n",
       "      <td>No</td>\n",
       "      <td>China (People's Republic of)</td>\n",
       "      <td>0</td>\n",
       "      <td>...</td>\n",
       "      <td>Government of Tanzania</td>\n",
       "      <td>China Communications Construction Co., Ltd. (C...</td>\n",
       "      <td>NaN</td>\n",
       "      <td>6.896215e+08</td>\n",
       "      <td>-6.835618</td>\n",
       "      <td>39.292597</td>\n",
       "      <td>https://www.openstreetmap.org/way/277786153#ma...</td>\n",
       "      <td>boundary not clear</td>\n",
       "      <td>None</td>\n",
       "      <td>None</td>\n",
       "    </tr>\n",
       "    <tr>\n",
       "      <th>14</th>\n",
       "      <td>22</td>\n",
       "      <td>DP World Posorja</td>\n",
       "      <td>Ecuador</td>\n",
       "      <td>South America</td>\n",
       "      <td>2018</td>\n",
       "      <td>73745</td>\n",
       "      <td>Yes</td>\n",
       "      <td>No</td>\n",
       "      <td>China (People's Republic of)</td>\n",
       "      <td>0</td>\n",
       "      <td>...</td>\n",
       "      <td>DP Word Posorja</td>\n",
       "      <td>China Harbour Engineering Co., Ltd.|Guayaquil ...</td>\n",
       "      <td>NaN</td>\n",
       "      <td>5.449249e+07</td>\n",
       "      <td>-2.693399</td>\n",
       "      <td>-80.248845</td>\n",
       "      <td>NaN</td>\n",
       "      <td>approximate location</td>\n",
       "      <td>None</td>\n",
       "      <td>None</td>\n",
       "    </tr>\n",
       "    <tr>\n",
       "      <th>28</th>\n",
       "      <td>74</td>\n",
       "      <td>Port of Banjul</td>\n",
       "      <td>Gambia</td>\n",
       "      <td>Africa</td>\n",
       "      <td>2017</td>\n",
       "      <td>56668</td>\n",
       "      <td>No</td>\n",
       "      <td>No</td>\n",
       "      <td>China (People's Republic of)</td>\n",
       "      <td>0</td>\n",
       "      <td>...</td>\n",
       "      <td>Government of Gambia</td>\n",
       "      <td>China Communications Construction Co., Ltd. (C...</td>\n",
       "      <td>NaN</td>\n",
       "      <td>2.040536e+08</td>\n",
       "      <td>13.444198</td>\n",
       "      <td>-16.575750</td>\n",
       "      <td>https://www.openstreetmap.org/relation/3694538</td>\n",
       "      <td>precise</td>\n",
       "      <td>None</td>\n",
       "      <td>None</td>\n",
       "    </tr>\n",
       "  </tbody>\n",
       "</table>\n",
       "<p>10 rows × 30 columns</p>\n",
       "</div>"
      ],
      "text/plain": [
       "    Unnamed: 0                               port_name recipient  \\\n",
       "54         119                              Port Sudan     Sudan   \n",
       "45         104  Porto Sul Intermodal Logistics Complex    Brazil   \n",
       "41         100                            Port of Tema     Ghana   \n",
       "18          50                             Kisumu Port     Kenya   \n",
       "37          87                          Port of Moroni   Comoros   \n",
       "40          97                        Port of Takoradi     Ghana   \n",
       "33          79                            Port of Caio    Angola   \n",
       "34          81                   Port of Dar es Salaam  Tanzania   \n",
       "14          22                        DP World Posorja   Ecuador   \n",
       "28          74                          Port of Banjul    Gambia   \n",
       "\n",
       "           region  commitment_year  aiddata_tuff_project_id  \\\n",
       "54         Africa             2001                    97783   \n",
       "45  South America             2017                    62855   \n",
       "41         Africa             2016                    59302   \n",
       "18         Africa             2017                    52927   \n",
       "37         Africa             2018                    57664   \n",
       "40         Africa             2011                    73196   \n",
       "33         Africa             2016                    68708   \n",
       "34         Africa             2012                    23231   \n",
       "14  South America             2018                    73745   \n",
       "28         Africa             2017                    56668   \n",
       "\n",
       "   recommended_for_aggregates umbrella             financier_country  \\\n",
       "54                        Yes       No  China (People's Republic of)   \n",
       "45                         No       No  China (People's Republic of)   \n",
       "41                        Yes       No  China (People's Republic of)   \n",
       "18                         No       No  China (People's Republic of)   \n",
       "37                         No       No  China (People's Republic of)   \n",
       "40                         No       No  China (People's Republic of)   \n",
       "33                        Yes       No  China (People's Republic of)   \n",
       "34                         No       No  China (People's Republic of)   \n",
       "14                        Yes       No  China (People's Republic of)   \n",
       "28                         No       No  China (People's Republic of)   \n",
       "\n",
       "    implementation_start_year  ...              receiving_agencies  \\\n",
       "54                       2001  ...     Sea Ports Corporation (SPC)   \n",
       "45                          0  ...            Government of Brazil   \n",
       "41                       2016  ...  Meridian Port Services Limited   \n",
       "18                          0  ...             Government of Kenya   \n",
       "37                          0  ...           Government of Comoros   \n",
       "40                          0  ...             Government of Ghana   \n",
       "33                          0  ...            Government of Angola   \n",
       "34                          0  ...          Government of Tanzania   \n",
       "14                          0  ...                 DP Word Posorja   \n",
       "28                          0  ...            Government of Gambia   \n",
       "\n",
       "                                implementing_agencies  \\\n",
       "54         China Harbour Engineering Co., Ltd. (CHEC)   \n",
       "45  Bahia Mineração (BAMIN)|China Communications C...   \n",
       "41          AECOM|China Harbour Engineering Co., Ltd.   \n",
       "18                        Kenya Ports Authority (KPA)   \n",
       "37             China Road & Bridge Corporation (CRBC)   \n",
       "40                China Harbour Engineering Co., Ltd.   \n",
       "33  Angola Ministry of Transportation|Caioporto, S...   \n",
       "34  China Communications Construction Co., Ltd. (C...   \n",
       "14  China Harbour Engineering Co., Ltd.|Guayaquil ...   \n",
       "28  China Communications Construction Co., Ltd. (C...   \n",
       "\n",
       "                                 accountable_agencies amount_constant_usd2021  \\\n",
       "54                                                NaN            2.778564e+07   \n",
       "45                                                NaN            0.000000e+00   \n",
       "41                                                NaN            2.727658e+08   \n",
       "18                                                NaN            1.613273e+08   \n",
       "37                                                NaN            1.700523e+08   \n",
       "40                                                NaN            0.000000e+00   \n",
       "33  China Export & Credit Insurance Corporation (S...            1.100510e+09   \n",
       "34                                                NaN            6.896215e+08   \n",
       "14                                                NaN            5.449249e+07   \n",
       "28                                                NaN            2.040536e+08   \n",
       "\n",
       "     latitude  longitude                                           osm_link  \\\n",
       "54  19.598400  37.227000        https://www.openstreetmap.org/way/627215576   \n",
       "45 -14.745549 -39.195522                                                NaN   \n",
       "41   5.615523  -0.014969        https://www.openstreetmap.org/way/666974334   \n",
       "18  -0.101879  34.746292        https://www.openstreetmap.org/way/499869532   \n",
       "37 -11.705466  43.247852        https://www.openstreetmap.org/way/144754155   \n",
       "40   4.887073  -1.735196        https://www.openstreetmap.org/way/756865759   \n",
       "33  -5.478222  12.226776  https://www.openstreetmap.org/way/977011440#ma...   \n",
       "34  -6.835618  39.292597  https://www.openstreetmap.org/way/277786153#ma...   \n",
       "14  -2.693399 -80.248845                                                NaN   \n",
       "28  13.444198 -16.575750     https://www.openstreetmap.org/relation/3694538   \n",
       "\n",
       "         precision_level   gdp  debt  \n",
       "54               precise  None  None  \n",
       "45  approximate location  None  None  \n",
       "41               precise  None  None  \n",
       "18               precise  None  None  \n",
       "37               precise  None  None  \n",
       "40    boundary not clear  None  None  \n",
       "33               precise  None  None  \n",
       "34    boundary not clear  None  None  \n",
       "14  approximate location  None  None  \n",
       "28               precise  None  None  \n",
       "\n",
       "[10 rows x 30 columns]"
      ]
     },
     "execution_count": 20,
     "metadata": {},
     "output_type": "execute_result"
    }
   ],
   "source": [
    "merged_data.sample(10)"
   ]
  }
 ],
 "metadata": {
  "kernelspec": {
   "display_name": "Python 3",
   "language": "python",
   "name": "python3"
  },
  "language_info": {
   "codemirror_mode": {
    "name": "ipython",
    "version": 3
   },
   "file_extension": ".py",
   "mimetype": "text/x-python",
   "name": "python",
   "nbconvert_exporter": "python",
   "pygments_lexer": "ipython3",
   "version": "3.12.3"
  }
 },
 "nbformat": 4,
 "nbformat_minor": 2
}
